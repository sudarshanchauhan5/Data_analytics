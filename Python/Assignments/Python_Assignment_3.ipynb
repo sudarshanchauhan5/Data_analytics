{
 "cells": [
  {
   "cell_type": "markdown",
   "id": "developing-sterling",
   "metadata": {},
   "source": [
    "<b>Number 1 - \n",
    "- Question -\n",
    "> Why are functions advantageous to have in your programs?\n",
    "\n",
    "- Answer -\n",
    "> Functions reduce the need for duplicate code. This makes programs shorter, easier to read, and easier to update.\n",
    "\n",
    "    \n",
    "<b>------------------------------------------------------------------------------------------------------------------------------------------------------------------------------------------------------------------"
   ]
  },
  {
   "cell_type": "markdown",
   "id": "signal-combine",
   "metadata": {},
   "source": [
    "<b>Number 2 - \n",
    "- Question -\n",
    "> When does the code in a function run: when it's specified or when it's called?\n",
    "\n",
    "- Answer -\n",
    "> The code in a function executes when the function is called, not when the function is defined.\n",
    "\n",
    "    \n",
    "<b>------------------------------------------------------------------------------------------------------------------------------------------------------------------------------------------------------------------"
   ]
  },
  {
   "cell_type": "markdown",
   "id": "urban-category",
   "metadata": {},
   "source": [
    "<b>Number 3 - \n",
    "- Question -\n",
    "> What statement creates a function?\n",
    "\n",
    "- Answer -\n",
    "> The def statement defines, i.e. creates a function.\n",
    "\n",
    "    \n",
    "<b>------------------------------------------------------------------------------------------------------------------------------------------------------------------------------------------------------------------"
   ]
  },
  {
   "cell_type": "markdown",
   "id": "visible-cotton",
   "metadata": {},
   "source": [
    "<b>Number 4\n",
    "    - \n",
    "- Question -\n",
    "> What is the difference between a function and a function call?\n",
    "\n",
    "- Answer -\n",
    "> A function consists of the def statement and the code in its def clause.\n",
    "> A function call is what moves the program execution into the function, and the function call evaluates to the function's return value.\n",
    "\n",
    "    \n",
    "<b>------------------------------------------------------------------------------------------------------------------------------------------------------------------------------------------------------------------"
   ]
  },
  {
   "cell_type": "markdown",
   "id": "continued-obligation",
   "metadata": {},
   "source": [
    "<b>Number 5 - \n",
    "- Question -\n",
    "> How many global scopes are there in a Python program? How many local scopes?\n",
    "\n",
    "- Answer -\n",
    "> There is one global scope, and a local scope is created whenever a function is called.\n",
    "\n",
    "    \n",
    "<b>------------------------------------------------------------------------------------------------------------------------------------------------------------------------------------------------------------------"
   ]
  },
  {
   "cell_type": "markdown",
   "id": "organized-novel",
   "metadata": {},
   "source": [
    "<b>Number 6 - \n",
    "- Question -\n",
    "> What happens to variables in a local scope when the function call returns?\n",
    "\n",
    "- Answer -\n",
    "> When a function returns, the local scope is destroyed, and all the variables in it are forgotten.\n",
    "\n",
    "    \n",
    "<b>------------------------------------------------------------------------------------------------------------------------------------------------------------------------------------------------------------------"
   ]
  },
  {
   "cell_type": "markdown",
   "id": "hourly-lancaster",
   "metadata": {},
   "source": [
    "<b>Number 7 - \n",
    "- Question -\n",
    "> What is the concept of a return value? Is it possible to have a return value in an expression?\n",
    "\n",
    "- Answer -\n",
    "> A return value is the value that a function call evaluates to. Like any value, a return value can be used as part of an expression.\n",
    "\n",
    "    \n",
    "<b>------------------------------------------------------------------------------------------------------------------------------------------------------------------------------------------------------------------"
   ]
  },
  {
   "cell_type": "markdown",
   "id": "polyphonic-cartridge",
   "metadata": {},
   "source": [
    "<b>Number 8 - \n",
    "- Question -\n",
    "> If a function does not have a return statement, what is the return value of a call to that function?\n",
    "\n",
    "- Answer -\n",
    "> If there is no return statement for a function, its return value is None.\n",
    "\n",
    "    \n",
    "<b>------------------------------------------------------------------------------------------------------------------------------------------------------------------------------------------------------------------"
   ]
  },
  {
   "cell_type": "markdown",
   "id": "silent-judgment",
   "metadata": {},
   "source": [
    "<b>Number 9 - \n",
    "- Question -\n",
    "> How do you make a function variable refer to the global variable?\n",
    "\n",
    "- Answer -\n",
    "> A global statement will force a variable in a function to refer to the global variable.\n",
    "\n",
    "    \n",
    "<b>------------------------------------------------------------------------------------------------------------------------------------------------------------------------------------------------------------------"
   ]
  },
  {
   "cell_type": "markdown",
   "id": "spiritual-sister",
   "metadata": {},
   "source": [
    "<b>Number 10 - \n",
    "- Question -\n",
    "> What is the data type of None?\n",
    "\n",
    "- Answer -\n",
    "> The data type of None is NoneType.\n",
    "\n",
    "    \n",
    "<b>------------------------------------------------------------------------------------------------------------------------------------------------------------------------------------------------------------------"
   ]
  },
  {
   "cell_type": "markdown",
   "id": "monetary-approach",
   "metadata": {},
   "source": [
    "<b>Number 11- \n",
    "- Question -\n",
    "> What does the sentence import areallyourpetsnamederic do?\n",
    "\n",
    "- Answer -\n",
    "> That import statement imports a module named areallyourpetsnamederic.\n",
    "\n",
    "    \n",
    "<b>------------------------------------------------------------------------------------------------------------------------------------------------------------------------------------------------------------------"
   ]
  },
  {
   "cell_type": "markdown",
   "id": "veterinary-sierra",
   "metadata": {},
   "source": [
    "<b>Number 12 - \n",
    "- Question -\n",
    "> If you had a bacon() feature in a spam module, what would you call it after importing spam?\n",
    "\n",
    "- Answer -\n",
    "> This function can be called with spam.bacon().\n",
    "\n",
    "    \n",
    "<b>------------------------------------------------------------------------------------------------------------------------------------------------------------------------------------------------------------------"
   ]
  },
  {
   "cell_type": "markdown",
   "id": "pleased-slovenia",
   "metadata": {},
   "source": [
    "<b>Number 13 - \n",
    "- Question -\n",
    "> What can you do to save a programme from crashing if it encounters an error?\n",
    "\n",
    "- Answer -\n",
    "> Place the line of code that might cause an error in a try clause.\n",
    "\n",
    "    \n",
    "<b>------------------------------------------------------------------------------------------------------------------------------------------------------------------------------------------------------------------"
   ]
  },
  {
   "cell_type": "markdown",
   "id": "recovered-python",
   "metadata": {},
   "source": [
    "<b>Number 14 - \n",
    "- Question -\n",
    "> What is the purpose of the try clause? What is the purpose of the except clause?\n",
    "\n",
    "- Answer -\n",
    "> - The code that could potentially cause an error goes in the try clause.\n",
    "> -The code that executes if an error happens goes in the except clause.\n",
    "\n",
    "    \n",
    "<b>------------------------------------------------------------------------------------------------------------------------------------------------------------------------------------------------------------------"
   ]
  }
 ],
 "metadata": {
  "hide_input": false,
  "kernelspec": {
   "display_name": "Python 3 (ipykernel)",
   "language": "python",
   "name": "python3"
  },
  "language_info": {
   "codemirror_mode": {
    "name": "ipython",
    "version": 3
   },
   "file_extension": ".py",
   "mimetype": "text/x-python",
   "name": "python",
   "nbconvert_exporter": "python",
   "pygments_lexer": "ipython3",
   "version": "3.9.13"
  },
  "toc": {
   "base_numbering": 1,
   "nav_menu": {},
   "number_sections": true,
   "sideBar": true,
   "skip_h1_title": false,
   "title_cell": "Table of Contents",
   "title_sidebar": "Contents",
   "toc_cell": false,
   "toc_position": {},
   "toc_section_display": true,
   "toc_window_display": false
  },
  "varInspector": {
   "cols": {
    "lenName": 16,
    "lenType": 16,
    "lenVar": 40
   },
   "kernels_config": {
    "python": {
     "delete_cmd_postfix": "",
     "delete_cmd_prefix": "del ",
     "library": "var_list.py",
     "varRefreshCmd": "print(var_dic_list())"
    },
    "r": {
     "delete_cmd_postfix": ") ",
     "delete_cmd_prefix": "rm(",
     "library": "var_list.r",
     "varRefreshCmd": "cat(var_dic_list()) "
    }
   },
   "types_to_exclude": [
    "module",
    "function",
    "builtin_function_or_method",
    "instance",
    "_Feature"
   ],
   "window_display": false
  }
 },
 "nbformat": 4,
 "nbformat_minor": 5
}
