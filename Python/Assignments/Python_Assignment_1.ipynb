{
 "cells": [
  {
   "cell_type": "markdown",
   "id": "korean-charge",
   "metadata": {},
   "source": [
    "<b>Number 1 - \n",
    "- Question -\n",
    "> In the below elements which of them are values or an expression? eg:- values can be integer or string and expressions will be mathematical operators.\n",
    ">- *\n",
    ">- 'hello'\n",
    ">- -87.8\n",
    ">- -\n",
    ">- /\n",
    ">- +\n",
    ">- 6\n",
    "\n",
    "- Answer -\n",
    ">- Arithmatic Operator\n",
    ">- String Value\n",
    ">- Floating-point Value\n",
    ">- Arithmatic Operator\n",
    ">- Arithmatic Operator\n",
    ">- Arithmatic Operator\n",
    ">- Integer"
   ]
  },
  {
   "cell_type": "markdown",
   "id": "outer-insurance",
   "metadata": {},
   "source": [
    "<b>Number 2 -\n",
    "- Question -  \n",
    ">What is the difference between string and variable?\n",
    "- Answer -\n",
    ">- Variable - spam\n",
    ">- String - 'spam'\n",
    ">- Strings always start and end with quotes"
   ]
  },
  {
   "cell_type": "markdown",
   "id": "academic-nelson",
   "metadata": {},
   "source": [
    "<b>Number 3 \n",
    "- Question -\n",
    ">Describe three different data types.\n",
    "    \n",
    "- Answer - \n",
    "> 1. Integers, \n",
    "> 2. floating-point numbers\n",
    "> 3. strings.\n"
   ]
  },
  {
   "cell_type": "markdown",
   "id": "prompt-classroom",
   "metadata": {},
   "source": [
    "<b> Number 4 - \n",
    "- Question -\n",
    "> What is an expression made up of? What do all expressions do?\n",
    "    \n",
    "- Answer -\n",
    "> We can say an expression is a combination of values, variables, operators\n",
    "> There are three kinds of expressions: An arithmetic expression evaluates to a single arithmetic value. A character expression evaluates to a single value of type character. A logical or relational expression evaluates to a single logical value. All expressions evaluate (that is, reduce) to a single value.\n",
    "   "
   ]
  },
  {
   "cell_type": "markdown",
   "id": "tender-rainbow",
   "metadata": {},
   "source": [
    "<b> Number 5 - \n",
    "- Question -\n",
    "> This assignment statements, like spam = 10. What is the difference between an expression and a statement?\n",
    "    \n",
    "- Answer -\n",
    "> An expression evaluates to a single value. A statement does not.\n",
    "    \n"
   ]
  },
  {
   "cell_type": "markdown",
   "id": "copyrighted-hypothetical",
   "metadata": {},
   "source": [
    "<b>Number 6 -\n",
    "- Question -\n",
    "> After running the following code, what does the variable bacon contain?\n",
    "> - bacon = 22\n",
    "> - bacon + 1\n",
    "\n",
    "- Answer -\n",
    "> The bacon variable is set to 22. The bacon + 1 expression does not reassign the value in bacon (that would need an assignment statement: bacon = bacon + 1)\n",
    "    \n"
   ]
  },
  {
   "cell_type": "markdown",
   "id": "registered-independence",
   "metadata": {},
   "source": [
    "<b> Number 7 -\n",
    "- Question -\n",
    "> What should the following two expressions evaluate to?\n",
    "> - 'spam' + 'spamspam'\n",
    "> -  'spam' * 3\n",
    "    \n",
    "- Answer -\n",
    "> Both expressions evaluate to the string 'spamspamspam'\n",
    "    \n"
   ]
  },
  {
   "cell_type": "markdown",
   "id": "corresponding-length",
   "metadata": {},
   "source": [
    "<b> Number 8 -\n",
    "- Question - \n",
    "> Why is it that eggs is a true variable name but 100 is not?\n",
    "- Answer - \n",
    "> Variable names cannot begin with a number.\n"
   ]
  },
  {
   "cell_type": "markdown",
   "id": "unlikely-converter",
   "metadata": {},
   "source": [
    "<b> Number 9 - \n",
    "- Question - \n",
    "> What three functions can be used to get the integer, floating-point number, or string version of a value?\n",
    "- Answer - \n",
    "> The int(), float(), and str() functions respectively can be used to convert a value to an integer, a floating-point number, or a string?\n",
    " "
   ]
  },
  {
   "cell_type": "markdown",
   "id": "sustained-teacher",
   "metadata": {},
   "source": [
    "<b> Number 10 -\n",
    "- Question -\n",
    "> Why does this expression cause an error? How can you fix it?\n",
    "> - 'I have eaten ' + 99 + ' burritos.'\n",
    "- Answer - \n",
    "> The expression causes an error because 99 is an integer, and only strings can be concatenated to other strings with the + operator. The correct way is I have eaten ' + str(99) + ' burritos.'.\n"
   ]
  }
 ],
 "metadata": {
  "hide_input": false,
  "kernelspec": {
   "display_name": "Python 3 (ipykernel)",
   "language": "python",
   "name": "python3"
  },
  "language_info": {
   "codemirror_mode": {
    "name": "ipython",
    "version": 3
   },
   "file_extension": ".py",
   "mimetype": "text/x-python",
   "name": "python",
   "nbconvert_exporter": "python",
   "pygments_lexer": "ipython3",
   "version": "3.9.13"
  },
  "toc": {
   "base_numbering": 1,
   "nav_menu": {},
   "number_sections": true,
   "sideBar": true,
   "skip_h1_title": false,
   "title_cell": "Table of Contents",
   "title_sidebar": "Contents",
   "toc_cell": false,
   "toc_position": {},
   "toc_section_display": true,
   "toc_window_display": false
  },
  "varInspector": {
   "cols": {
    "lenName": 16,
    "lenType": 16,
    "lenVar": 40
   },
   "kernels_config": {
    "python": {
     "delete_cmd_postfix": "",
     "delete_cmd_prefix": "del ",
     "library": "var_list.py",
     "varRefreshCmd": "print(var_dic_list())"
    },
    "r": {
     "delete_cmd_postfix": ") ",
     "delete_cmd_prefix": "rm(",
     "library": "var_list.r",
     "varRefreshCmd": "cat(var_dic_list()) "
    }
   },
   "types_to_exclude": [
    "module",
    "function",
    "builtin_function_or_method",
    "instance",
    "_Feature"
   ],
   "window_display": false
  }
 },
 "nbformat": 4,
 "nbformat_minor": 5
}
